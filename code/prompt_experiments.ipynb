{
 "cells": [
  {
   "cell_type": "code",
   "execution_count": 1,
   "metadata": {
    "colab": {
     "base_uri": "https://localhost:8080/"
    },
    "executionInfo": {
     "elapsed": 824,
     "status": "ok",
     "timestamp": 1679842094963,
     "user": {
      "displayName": "Gabriel Jiahe Li",
      "userId": "17836748336427338389"
     },
     "user_tz": -480
    },
    "id": "AEUErmIC6cFB",
    "outputId": "48a25f5a-6a47-40be-f97c-29e96c854d57"
   },
   "outputs": [
    {
     "name": "stdout",
     "output_type": "stream",
     "text": [
      "Installing collected packages: multidict, frozenlist, async-timeout, yarl, aiosignal, aiohttp, openai\n",
      "Successfully installed aiohttp-3.8.4 aiosignal-1.3.1 async-timeout-4.0.2 frozenlist-1.3.3 multidict-6.0.4 openai-0.27.2 yarl-1.8.2\n"
     ]
    }
   ],
   "source": [
    "! pip install openai"
   ]
  },
  {
   "cell_type": "code",
   "execution_count": 51,
   "metadata": {
    "executionInfo": {
     "elapsed": 4,
     "status": "ok",
     "timestamp": 1679845507523,
     "user": {
      "displayName": "Gabriel Jiahe Li",
      "userId": "17836748336427338389"
     },
     "user_tz": -480
    },
    "id": "lf8-6QtcxM2R"
   },
   "outputs": [],
   "source": [
    "# Note: you need to be using OpenAI Python v0.27.0 for the code below to work\n",
    "import os\n",
    "import openai\n",
    "import pandas as pd\n",
    "\n",
    "from google.colab import files\n",
    "from datasets import load_dataset\n",
    "from sklearn.utils import shuffle\n",
    "from tqdm import tqdm"
   ]
  },
  {
   "cell_type": "code",
   "execution_count": 11,
   "metadata": {
    "executionInfo": {
     "elapsed": 24197,
     "status": "ok",
     "timestamp": 1679843483811,
     "user": {
      "displayName": "Gabriel Jiahe Li",
      "userId": "17836748336427338389"
     },
     "user_tz": -480
    },
    "id": "Csky5UENePcI"
   },
   "outputs": [],
   "source": [
    "!pip -q install -U -q PyDrive\n",
    "from pydrive.auth import GoogleAuth\n",
    "from pydrive.drive import GoogleDrive\n",
    "from google.colab import auth\n",
    "from oauth2client.client import GoogleCredentials\n",
    "auth.authenticate_user()  #click allow access\n",
    "gauth = GoogleAuth()\n",
    "gauth.credentials = GoogleCredentials.get_application_default()\n",
    "drive = GoogleDrive(gauth)"
   ]
  },
  {
   "cell_type": "code",
   "execution_count": 4,
   "metadata": {
    "executionInfo": {
     "elapsed": 3,
     "status": "ok",
     "timestamp": 1679842123178,
     "user": {
      "displayName": "Gabriel Jiahe Li",
      "userId": "17836748336427338389"
     },
     "user_tz": -480
    },
    "id": "PsS8AgWMGQ1J"
   },
   "outputs": [],
   "source": [
    "os.environ[\"OPENAI_API_KEY\"] = \"<YOUR_API_KEY>\"\n",
    "openai.api_key = os.getenv(\"OPENAI_API_KEY\")"
   ]
  },
  {
   "cell_type": "code",
   "execution_count": 15,
   "metadata": {
    "executionInfo": {
     "elapsed": 5380,
     "status": "ok",
     "timestamp": 1679843889875,
     "user": {
      "displayName": "Gabriel Jiahe Li",
      "userId": "17836748336427338389"
     },
     "user_tz": -480
    },
    "id": "bc3zsXAZf2u2"
   },
   "outputs": [],
   "source": [
    "id = \"1th1mkhwZ5YvKEru9po8k0lxxD_BJ9Xqr\"\n",
    "downloaded = drive.CreateFile({'id':id}) \n",
    "downloaded.GetContentFile('balanced_test.csv')  "
   ]
  },
  {
   "cell_type": "code",
   "execution_count": 62,
   "metadata": {
    "colab": {
     "base_uri": "https://localhost:8080/",
     "height": 424
    },
    "executionInfo": {
     "elapsed": 5,
     "status": "ok",
     "timestamp": 1679847592216,
     "user": {
      "displayName": "Gabriel Jiahe Li",
      "userId": "17836748336427338389"
     },
     "user_tz": -480
    },
    "id": "ME9Ink8hfg-B",
    "outputId": "c8767585-3970-4a74-ae35-453ab87edf28"
   },
   "outputs": [
    {
     "data": {
      "text/html": [
       "\n",
       "  <div id=\"df-e3da63e0-5983-483b-8ecf-7bbeea687f6e\">\n",
       "    <div class=\"colab-df-container\">\n",
       "      <div>\n",
       "<style scoped>\n",
       "    .dataframe tbody tr th:only-of-type {\n",
       "        vertical-align: middle;\n",
       "    }\n",
       "\n",
       "    .dataframe tbody tr th {\n",
       "        vertical-align: top;\n",
       "    }\n",
       "\n",
       "    .dataframe thead th {\n",
       "        text-align: right;\n",
       "    }\n",
       "</style>\n",
       "<table border=\"1\" class=\"dataframe\">\n",
       "  <thead>\n",
       "    <tr style=\"text-align: right;\">\n",
       "      <th></th>\n",
       "      <th>label</th>\n",
       "      <th>text</th>\n",
       "    </tr>\n",
       "  </thead>\n",
       "  <tbody>\n",
       "    <tr>\n",
       "      <th>0</th>\n",
       "      <td>1</td>\n",
       "      <td>When so many actors seem content to churn out ...</td>\n",
       "    </tr>\n",
       "    <tr>\n",
       "      <th>1</th>\n",
       "      <td>1</td>\n",
       "      <td>In what football insiders are calling an unex...</td>\n",
       "    </tr>\n",
       "    <tr>\n",
       "      <th>2</th>\n",
       "      <td>1</td>\n",
       "      <td>In a freak accident following Game 3 of the N....</td>\n",
       "    </tr>\n",
       "    <tr>\n",
       "      <th>3</th>\n",
       "      <td>1</td>\n",
       "      <td>North Koreas official news agency announced to...</td>\n",
       "    </tr>\n",
       "    <tr>\n",
       "      <th>4</th>\n",
       "      <td>1</td>\n",
       "      <td>The former Alaska Governor Sarah Palin would b...</td>\n",
       "    </tr>\n",
       "    <tr>\n",
       "      <th>...</th>\n",
       "      <td>...</td>\n",
       "      <td>...</td>\n",
       "    </tr>\n",
       "    <tr>\n",
       "      <th>2995</th>\n",
       "      <td>4</td>\n",
       "      <td>The Air Force mistakenly gave rival companies ...</td>\n",
       "    </tr>\n",
       "    <tr>\n",
       "      <th>2996</th>\n",
       "      <td>4</td>\n",
       "      <td>The United Nations climate chief on Friday cha...</td>\n",
       "    </tr>\n",
       "    <tr>\n",
       "      <th>2997</th>\n",
       "      <td>4</td>\n",
       "      <td>River Plate midfielder Diego Buonanotte has un...</td>\n",
       "    </tr>\n",
       "    <tr>\n",
       "      <th>2998</th>\n",
       "      <td>4</td>\n",
       "      <td>Lawmakers were on the brink Tuesday of exempti...</td>\n",
       "    </tr>\n",
       "    <tr>\n",
       "      <th>2999</th>\n",
       "      <td>4</td>\n",
       "      <td>The Pentagon, which is processing bids on a ne...</td>\n",
       "    </tr>\n",
       "  </tbody>\n",
       "</table>\n",
       "<p>3000 rows × 2 columns</p>\n",
       "</div>\n",
       "      <button class=\"colab-df-convert\" onclick=\"convertToInteractive('df-e3da63e0-5983-483b-8ecf-7bbeea687f6e')\"\n",
       "              title=\"Convert this dataframe to an interactive table.\"\n",
       "              style=\"display:none;\">\n",
       "        \n",
       "  <svg xmlns=\"http://www.w3.org/2000/svg\" height=\"24px\"viewBox=\"0 0 24 24\"\n",
       "       width=\"24px\">\n",
       "    <path d=\"M0 0h24v24H0V0z\" fill=\"none\"/>\n",
       "    <path d=\"M18.56 5.44l.94 2.06.94-2.06 2.06-.94-2.06-.94-.94-2.06-.94 2.06-2.06.94zm-11 1L8.5 8.5l.94-2.06 2.06-.94-2.06-.94L8.5 2.5l-.94 2.06-2.06.94zm10 10l.94 2.06.94-2.06 2.06-.94-2.06-.94-.94-2.06-.94 2.06-2.06.94z\"/><path d=\"M17.41 7.96l-1.37-1.37c-.4-.4-.92-.59-1.43-.59-.52 0-1.04.2-1.43.59L10.3 9.45l-7.72 7.72c-.78.78-.78 2.05 0 2.83L4 21.41c.39.39.9.59 1.41.59.51 0 1.02-.2 1.41-.59l7.78-7.78 2.81-2.81c.8-.78.8-2.07 0-2.86zM5.41 20L4 18.59l7.72-7.72 1.47 1.35L5.41 20z\"/>\n",
       "  </svg>\n",
       "      </button>\n",
       "      \n",
       "  <style>\n",
       "    .colab-df-container {\n",
       "      display:flex;\n",
       "      flex-wrap:wrap;\n",
       "      gap: 12px;\n",
       "    }\n",
       "\n",
       "    .colab-df-convert {\n",
       "      background-color: #E8F0FE;\n",
       "      border: none;\n",
       "      border-radius: 50%;\n",
       "      cursor: pointer;\n",
       "      display: none;\n",
       "      fill: #1967D2;\n",
       "      height: 32px;\n",
       "      padding: 0 0 0 0;\n",
       "      width: 32px;\n",
       "    }\n",
       "\n",
       "    .colab-df-convert:hover {\n",
       "      background-color: #E2EBFA;\n",
       "      box-shadow: 0px 1px 2px rgba(60, 64, 67, 0.3), 0px 1px 3px 1px rgba(60, 64, 67, 0.15);\n",
       "      fill: #174EA6;\n",
       "    }\n",
       "\n",
       "    [theme=dark] .colab-df-convert {\n",
       "      background-color: #3B4455;\n",
       "      fill: #D2E3FC;\n",
       "    }\n",
       "\n",
       "    [theme=dark] .colab-df-convert:hover {\n",
       "      background-color: #434B5C;\n",
       "      box-shadow: 0px 1px 3px 1px rgba(0, 0, 0, 0.15);\n",
       "      filter: drop-shadow(0px 1px 2px rgba(0, 0, 0, 0.3));\n",
       "      fill: #FFFFFF;\n",
       "    }\n",
       "  </style>\n",
       "\n",
       "      <script>\n",
       "        const buttonEl =\n",
       "          document.querySelector('#df-e3da63e0-5983-483b-8ecf-7bbeea687f6e button.colab-df-convert');\n",
       "        buttonEl.style.display =\n",
       "          google.colab.kernel.accessAllowed ? 'block' : 'none';\n",
       "\n",
       "        async function convertToInteractive(key) {\n",
       "          const element = document.querySelector('#df-e3da63e0-5983-483b-8ecf-7bbeea687f6e');\n",
       "          const dataTable =\n",
       "            await google.colab.kernel.invokeFunction('convertToInteractive',\n",
       "                                                     [key], {});\n",
       "          if (!dataTable) return;\n",
       "\n",
       "          const docLinkHtml = 'Like what you see? Visit the ' +\n",
       "            '<a target=\"_blank\" href=https://colab.research.google.com/notebooks/data_table.ipynb>data table notebook</a>'\n",
       "            + ' to learn more about interactive tables.';\n",
       "          element.innerHTML = '';\n",
       "          dataTable['output_type'] = 'display_data';\n",
       "          await google.colab.output.renderOutput(dataTable, element);\n",
       "          const docLink = document.createElement('div');\n",
       "          docLink.innerHTML = docLinkHtml;\n",
       "          element.appendChild(docLink);\n",
       "        }\n",
       "      </script>\n",
       "    </div>\n",
       "  </div>\n",
       "  "
      ],
      "text/plain": [
       "      label                                               text\n",
       "0         1  When so many actors seem content to churn out ...\n",
       "1         1   In what football insiders are calling an unex...\n",
       "2         1  In a freak accident following Game 3 of the N....\n",
       "3         1  North Koreas official news agency announced to...\n",
       "4         1  The former Alaska Governor Sarah Palin would b...\n",
       "...     ...                                                ...\n",
       "2995      4  The Air Force mistakenly gave rival companies ...\n",
       "2996      4  The United Nations climate chief on Friday cha...\n",
       "2997      4  River Plate midfielder Diego Buonanotte has un...\n",
       "2998      4  Lawmakers were on the brink Tuesday of exempti...\n",
       "2999      4  The Pentagon, which is processing bids on a ne...\n",
       "\n",
       "[3000 rows x 2 columns]"
      ]
     },
     "execution_count": 62,
     "metadata": {},
     "output_type": "execute_result"
    }
   ],
   "source": [
    "test = pd.read_csv('balanced_test.csv', header = None)\n",
    "test.columns = ['label', 'text']\n",
    "test"
   ]
  },
  {
   "cell_type": "code",
   "execution_count": 63,
   "metadata": {
    "colab": {
     "base_uri": "https://localhost:8080/"
    },
    "executionInfo": {
     "elapsed": 3092,
     "status": "ok",
     "timestamp": 1679847607840,
     "user": {
      "displayName": "Gabriel Jiahe Li",
      "userId": "17836748336427338389"
     },
     "user_tz": -480
    },
    "id": "IL7C84PeZ_eP",
    "outputId": "891090d7-20b0-45af-b607-bd1c4fae413c"
   },
   "outputs": [
    {
     "name": "stdout",
     "output_type": "stream",
     "text": [
      "assistant: As an AI language model, I can answer your questions, provide information on a certain subject, assist you in writing or proofreading text, offer suggestions or recommendations, and perform simple tasks such as setting a reminder or creating a to-do list. How may I assist you today?\n",
      "\n"
     ]
    }
   ],
   "source": [
    "model_id = 'gpt-3.5-turbo'\n",
    "\n",
    "def get_gpt_reply(conversation):\n",
    "    response = openai.ChatCompletion.create(\n",
    "        model=model_id,\n",
    "        messages=conversation\n",
    "    )\n",
    "    conversation.append({'role': response.choices[0].message.role, 'content': response.choices[0].message.content})\n",
    "    return conversation\n",
    "\n",
    "conversation = []\n",
    "conversation.append({'role': 'system', 'content': 'How may I help you?'})\n",
    "conversation = get_gpt_reply(conversation)\n",
    "print('{0}: {1}\\n'.format(conversation[-1]['role'].strip(), conversation[-1]['content'].strip()))"
   ]
  },
  {
   "cell_type": "code",
   "execution_count": 64,
   "metadata": {
    "colab": {
     "base_uri": "https://localhost:8080/",
     "height": 1000
    },
    "executionInfo": {
     "elapsed": 875798,
     "status": "error",
     "timestamp": 1679848486658,
     "user": {
      "displayName": "Gabriel Jiahe Li",
      "userId": "17836748336427338389"
     },
     "user_tz": -480
    },
    "id": "c7xW8V5-d1vs",
    "outputId": "37f85f98-7b33-4e55-ad18-f77587c9abe5"
   },
   "outputs": [
    {
     "name": "stderr",
     "output_type": "stream",
     "text": [
      "\n",
      "  0%|          | 6/3000 [00:57<7:54:57,  9.52s/it]\n",
      "\n",
      "  0%|          | 1/3000 [00:01<1:14:27,  1.49s/it]\u001b[A\n",
      "  0%|          | 2/3000 [00:02<1:13:39,  1.47s/it]\u001b[A\n",
      "  0%|          | 3/3000 [00:04<1:13:38,  1.47s/it]\u001b[A\n",
      "  0%|          | 4/3000 [00:05<1:13:04,  1.46s/it]\u001b[A\n",
      "  0%|          | 5/3000 [00:07<1:13:11,  1.47s/it]\u001b[A\n",
      "  0%|          | 6/3000 [00:09<1:18:28,  1.57s/it]\u001b[A\n",
      "  0%|          | 7/3000 [00:10<1:15:49,  1.52s/it]\u001b[A\n",
      "  0%|          | 8/3000 [00:12<1:20:46,  1.62s/it]\u001b[A\n",
      "  0%|          | 9/3000 [00:14<1:23:01,  1.67s/it]\u001b[A\n",
      "  0%|          | 10/3000 [00:15<1:19:40,  1.60s/it]\u001b[A\n",
      "  0%|          | 11/3000 [00:16<1:16:19,  1.53s/it]\u001b[A\n",
      "  0%|          | 12/3000 [00:19<1:30:02,  1.81s/it]\u001b[A\n",
      "  0%|          | 13/3000 [00:21<1:27:45,  1.76s/it]\u001b[A\n",
      "  0%|          | 14/3000 [00:22<1:28:14,  1.77s/it]\u001b[A\n",
      "  0%|          | 15/3000 [00:24<1:27:15,  1.75s/it]\u001b[A\n",
      "  1%|          | 16/3000 [00:26<1:29:09,  1.79s/it]\u001b[A\n",
      "  1%|          | 17/3000 [00:28<1:28:57,  1.79s/it]\u001b[A\n",
      "  1%|          | 18/3000 [00:29<1:27:36,  1.76s/it]\u001b[A\n",
      "  1%|          | 19/3000 [00:31<1:22:02,  1.65s/it]\u001b[A\n",
      "  1%|          | 20/3000 [00:33<1:24:23,  1.70s/it]\u001b[A\n",
      "  1%|          | 21/3000 [00:34<1:24:47,  1.71s/it]\u001b[A\n",
      "  1%|          | 22/3000 [00:36<1:21:42,  1.65s/it]\u001b[A\n",
      "  1%|          | 23/3000 [00:37<1:18:38,  1.59s/it]\u001b[A\n",
      "  1%|          | 24/3000 [00:39<1:16:11,  1.54s/it]\u001b[A\n",
      "  1%|          | 25/3000 [00:40<1:14:53,  1.51s/it]\u001b[A\n",
      "  1%|          | 26/3000 [00:42<1:19:44,  1.61s/it]\u001b[A\n",
      "  1%|          | 27/3000 [00:43<1:17:18,  1.56s/it]\u001b[A\n",
      "  1%|          | 28/3000 [00:45<1:15:08,  1.52s/it]\u001b[A\n",
      "  1%|          | 29/3000 [00:46<1:13:31,  1.48s/it]\u001b[A\n",
      "  1%|          | 30/3000 [00:48<1:12:19,  1.46s/it]\u001b[A\n",
      "  1%|          | 31/3000 [00:49<1:11:44,  1.45s/it]\u001b[A\n",
      "  1%|          | 32/3000 [00:50<1:07:00,  1.35s/it]\u001b[A\n",
      "  1%|          | 33/3000 [00:52<1:08:24,  1.38s/it]\u001b[A\n",
      "  1%|          | 34/3000 [00:53<1:12:39,  1.47s/it]\u001b[A\n",
      "  1%|          | 35/3000 [00:55<1:11:06,  1.44s/it]\u001b[A\n",
      "  1%|          | 36/3000 [00:56<1:14:22,  1.51s/it]\u001b[A\n",
      "  1%|          | 37/3000 [00:58<1:13:41,  1.49s/it]\u001b[A\n",
      "  1%|▏         | 38/3000 [00:59<1:12:40,  1.47s/it]\u001b[A\n",
      "  1%|▏         | 39/3000 [01:01<1:11:21,  1.45s/it]\u001b[A\n",
      "  1%|▏         | 40/3000 [01:02<1:15:31,  1.53s/it]\u001b[A\n",
      "  1%|▏         | 41/3000 [01:04<1:13:58,  1.50s/it]\u001b[A\n",
      "  1%|▏         | 42/3000 [01:05<1:12:28,  1.47s/it]\u001b[A\n",
      "  1%|▏         | 43/3000 [01:07<1:14:59,  1.52s/it]\u001b[A\n",
      "  1%|▏         | 44/3000 [01:09<1:23:18,  1.69s/it]\u001b[A\n",
      "  2%|▏         | 45/3000 [01:10<1:19:30,  1.61s/it]\u001b[A\n",
      "  2%|▏         | 46/3000 [01:12<1:17:00,  1.56s/it]\u001b[A\n",
      "  2%|▏         | 47/3000 [01:14<1:19:32,  1.62s/it]\u001b[A\n",
      "  2%|▏         | 48/3000 [01:15<1:16:19,  1.55s/it]\u001b[A\n",
      "  2%|▏         | 49/3000 [01:17<1:19:01,  1.61s/it]\u001b[A\n",
      "  2%|▏         | 50/3000 [01:19<1:23:33,  1.70s/it]\u001b[A\n",
      "  2%|▏         | 51/3000 [01:20<1:24:55,  1.73s/it]\u001b[A\n",
      "  2%|▏         | 52/3000 [01:22<1:20:52,  1.65s/it]\u001b[A\n",
      "  2%|▏         | 53/3000 [01:23<1:17:20,  1.57s/it]\u001b[A\n",
      "  2%|▏         | 54/3000 [01:25<1:14:33,  1.52s/it]\u001b[A\n",
      "  2%|▏         | 55/3000 [01:26<1:17:01,  1.57s/it]\u001b[A\n",
      "  2%|▏         | 56/3000 [01:28<1:19:57,  1.63s/it]\u001b[A\n",
      "  2%|▏         | 57/3000 [01:30<1:22:14,  1.68s/it]\u001b[A\n",
      "  2%|▏         | 58/3000 [01:32<1:28:56,  1.81s/it]\u001b[A\n",
      "  2%|▏         | 59/3000 [01:33<1:22:35,  1.68s/it]\u001b[A\n",
      "  2%|▏         | 60/3000 [01:35<1:22:59,  1.69s/it]\u001b[A\n",
      "  2%|▏         | 61/3000 [01:37<1:18:35,  1.60s/it]\u001b[A\n",
      "  2%|▏         | 62/3000 [01:38<1:19:24,  1.62s/it]\u001b[A\n",
      "  2%|▏         | 63/3000 [01:40<1:16:39,  1.57s/it]\u001b[A\n",
      "  2%|▏         | 64/3000 [01:41<1:20:08,  1.64s/it]\u001b[A\n",
      "  2%|▏         | 65/3000 [01:43<1:16:51,  1.57s/it]\u001b[A\n",
      "  2%|▏         | 66/3000 [01:44<1:14:06,  1.52s/it]\u001b[A\n",
      "  2%|▏         | 67/3000 [01:46<1:17:59,  1.60s/it]\u001b[A\n",
      "  2%|▏         | 68/3000 [01:48<1:16:08,  1.56s/it]\u001b[A\n",
      "  2%|▏         | 69/3000 [01:49<1:14:30,  1.53s/it]\u001b[A\n",
      "  2%|▏         | 70/3000 [01:51<1:17:33,  1.59s/it]\u001b[A\n",
      "  2%|▏         | 71/3000 [01:52<1:20:33,  1.65s/it]\u001b[A\n",
      "  2%|▏         | 72/3000 [01:54<1:19:06,  1.62s/it]\u001b[A\n",
      "  2%|▏         | 73/3000 [01:55<1:15:41,  1.55s/it]\u001b[A\n",
      "  2%|▏         | 74/3000 [01:57<1:14:29,  1.53s/it]\u001b[A\n",
      "  2%|▎         | 75/3000 [01:58<1:12:49,  1.49s/it]\u001b[A\n",
      "  3%|▎         | 76/3000 [02:00<1:16:25,  1.57s/it]\u001b[A\n",
      "  3%|▎         | 77/3000 [02:02<1:15:06,  1.54s/it]\u001b[A\n",
      "  3%|▎         | 78/3000 [02:03<1:18:44,  1.62s/it]\u001b[A\n",
      "  3%|▎         | 79/3000 [02:05<1:17:24,  1.59s/it]\u001b[A\n",
      "  3%|▎         | 80/3000 [02:07<1:21:54,  1.68s/it]\u001b[A\n",
      "  3%|▎         | 81/3000 [02:08<1:18:53,  1.62s/it]\u001b[A\n",
      "  3%|▎         | 82/3000 [02:10<1:20:03,  1.65s/it]\u001b[A\n",
      "  3%|▎         | 83/3000 [02:12<1:21:55,  1.69s/it]\u001b[A\n",
      "  3%|▎         | 84/3000 [02:13<1:20:08,  1.65s/it]\u001b[A\n",
      "  3%|▎         | 85/3000 [02:15<1:22:51,  1.71s/it]\u001b[A\n",
      "  3%|▎         | 86/3000 [02:17<1:23:00,  1.71s/it]\u001b[A\n",
      "  3%|▎         | 87/3000 [02:18<1:19:39,  1.64s/it]\u001b[A\n",
      "  3%|▎         | 88/3000 [02:20<1:17:20,  1.59s/it]\u001b[A\n",
      "  3%|▎         | 89/3000 [02:21<1:15:54,  1.56s/it]\u001b[A\n",
      "  3%|▎         | 90/3000 [02:23<1:13:18,  1.51s/it]\u001b[A\n",
      "  3%|▎         | 91/3000 [02:24<1:12:48,  1.50s/it]\u001b[A\n",
      "  3%|▎         | 92/3000 [02:26<1:12:05,  1.49s/it]\u001b[A\n",
      "  3%|▎         | 93/3000 [02:27<1:15:06,  1.55s/it]\u001b[A\n",
      "  3%|▎         | 94/3000 [02:29<1:13:37,  1.52s/it]\u001b[A\n",
      "  3%|▎         | 95/3000 [02:30<1:11:54,  1.49s/it]\u001b[A\n",
      "  3%|▎         | 96/3000 [02:32<1:11:00,  1.47s/it]\u001b[A\n",
      "  3%|▎         | 97/3000 [02:33<1:14:43,  1.54s/it]\u001b[A\n",
      "  3%|▎         | 98/3000 [02:35<1:13:28,  1.52s/it]\u001b[A\n",
      "  3%|▎         | 99/3000 [02:36<1:11:38,  1.48s/it]\u001b[A\n",
      "  3%|▎         | 100/3000 [02:38<1:14:54,  1.55s/it]\u001b[A\n",
      "  3%|▎         | 101/3000 [02:39<1:13:24,  1.52s/it]\u001b[A\n",
      "  3%|▎         | 102/3000 [02:41<1:13:17,  1.52s/it]\u001b[A\n",
      "  3%|▎         | 103/3000 [02:43<1:16:47,  1.59s/it]\u001b[A\n",
      "  3%|▎         | 104/3000 [02:44<1:17:32,  1.61s/it]\u001b[A\n",
      "  4%|▎         | 105/3000 [02:46<1:24:40,  1.75s/it]\u001b[A\n",
      "  4%|▎         | 106/3000 [02:48<1:20:23,  1.67s/it]\u001b[A\n",
      "  4%|▎         | 107/3000 [02:49<1:17:22,  1.60s/it]\u001b[A\n",
      "  4%|▎         | 108/3000 [02:51<1:16:11,  1.58s/it]\u001b[A\n",
      "  4%|▎         | 109/3000 [02:52<1:13:30,  1.53s/it]\u001b[A\n",
      "  4%|▎         | 110/3000 [02:54<1:11:39,  1.49s/it]\u001b[A\n",
      "  4%|▎         | 111/3000 [02:55<1:15:05,  1.56s/it]\u001b[A\n",
      "  4%|▎         | 112/3000 [02:57<1:12:15,  1.50s/it]\u001b[A\n",
      "  4%|▍         | 113/3000 [02:59<1:19:57,  1.66s/it]\u001b[A\n",
      "  4%|▍         | 114/3000 [03:00<1:20:37,  1.68s/it]\u001b[A\n",
      "  4%|▍         | 115/3000 [03:02<1:16:10,  1.58s/it]\u001b[A\n",
      "  4%|▍         | 116/3000 [03:03<1:14:58,  1.56s/it]\u001b[A\n",
      "  4%|▍         | 117/3000 [03:05<1:17:15,  1.61s/it]\u001b[A\n",
      "  4%|▍         | 118/3000 [03:06<1:14:14,  1.55s/it]\u001b[A\n",
      "  4%|▍         | 119/3000 [03:08<1:16:21,  1.59s/it]\u001b[A\n",
      "  4%|▍         | 120/3000 [03:10<1:18:35,  1.64s/it]\u001b[A\n",
      "  4%|▍         | 121/3000 [03:11<1:16:38,  1.60s/it]\u001b[A\n",
      "  4%|▍         | 122/3000 [03:13<1:17:57,  1.63s/it]\u001b[A\n",
      "  4%|▍         | 123/3000 [03:15<1:19:08,  1.65s/it]\u001b[A\n",
      "  4%|▍         | 124/3000 [03:18<1:39:47,  2.08s/it]\u001b[A\n",
      "  4%|▍         | 125/3000 [03:19<1:29:59,  1.88s/it]\u001b[A\n",
      "  4%|▍         | 126/3000 [03:21<1:27:51,  1.83s/it]\u001b[A\n",
      "  4%|▍         | 127/3000 [03:22<1:21:59,  1.71s/it]\u001b[A\n",
      "  4%|▍         | 128/3000 [03:25<1:29:55,  1.88s/it]\u001b[A\n",
      "  4%|▍         | 129/3000 [03:26<1:28:03,  1.84s/it]\u001b[A\n",
      "  4%|▍         | 130/3000 [03:28<1:27:40,  1.83s/it]\u001b[A\n",
      "  4%|▍         | 131/3000 [03:30<1:24:56,  1.78s/it]\u001b[A\n",
      "  4%|▍         | 132/3000 [03:31<1:20:34,  1.69s/it]\u001b[A\n",
      "  4%|▍         | 133/3000 [03:33<1:21:40,  1.71s/it]\u001b[A\n",
      "  4%|▍         | 134/3000 [03:35<1:16:49,  1.61s/it]\u001b[A\n",
      "  4%|▍         | 135/3000 [03:36<1:14:12,  1.55s/it]\u001b[A\n",
      "  5%|▍         | 136/3000 [03:38<1:17:08,  1.62s/it]\u001b[A\n",
      "  5%|▍         | 137/3000 [03:39<1:19:20,  1.66s/it]\u001b[A\n",
      "  5%|▍         | 138/3000 [03:41<1:14:57,  1.57s/it]\u001b[A\n",
      "  5%|▍         | 139/3000 [03:42<1:12:42,  1.52s/it]\u001b[A\n",
      "  5%|▍         | 140/3000 [03:44<1:11:22,  1.50s/it]\u001b[A\n",
      "  5%|▍         | 141/3000 [03:45<1:13:57,  1.55s/it]\u001b[A\n",
      "  5%|▍         | 142/3000 [03:47<1:15:10,  1.58s/it]\u001b[A\n",
      "  5%|▍         | 143/3000 [03:48<1:13:27,  1.54s/it]\u001b[A\n",
      "  5%|▍         | 144/3000 [03:50<1:10:49,  1.49s/it]\u001b[A\n",
      "  5%|▍         | 145/3000 [03:51<1:13:31,  1.55s/it]\u001b[A\n",
      "  5%|▍         | 146/3000 [03:53<1:12:04,  1.52s/it]\u001b[A\n",
      "  5%|▍         | 147/3000 [03:54<1:10:28,  1.48s/it]\u001b[A\n",
      "  5%|▍         | 148/3000 [03:56<1:13:22,  1.54s/it]\u001b[A\n",
      "  5%|▍         | 149/3000 [03:58<1:12:29,  1.53s/it]\u001b[A\n",
      "  5%|▌         | 150/3000 [03:59<1:15:25,  1.59s/it]\u001b[A\n",
      "  5%|▌         | 151/3000 [04:01<1:12:19,  1.52s/it]\u001b[A\n",
      "  5%|▌         | 152/3000 [04:02<1:10:20,  1.48s/it]\u001b[A\n",
      "  5%|▌         | 153/3000 [04:03<1:09:40,  1.47s/it]\u001b[A\n",
      "  5%|▌         | 154/3000 [04:05<1:12:51,  1.54s/it]\u001b[A\n",
      "  5%|▌         | 155/3000 [04:07<1:14:51,  1.58s/it]\u001b[A\n",
      "  5%|▌         | 156/3000 [04:08<1:16:14,  1.61s/it]\u001b[A\n",
      "  5%|▌         | 157/3000 [04:10<1:12:45,  1.54s/it]\u001b[A\n",
      "  5%|▌         | 158/3000 [04:12<1:17:50,  1.64s/it]\u001b[A\n",
      "  5%|▌         | 159/3000 [04:14<1:19:23,  1.68s/it]\u001b[A\n",
      "  5%|▌         | 160/3000 [04:15<1:18:58,  1.67s/it]\u001b[A\n",
      "  5%|▌         | 161/3000 [04:17<1:20:23,  1.70s/it]\u001b[A\n",
      "  5%|▌         | 162/3000 [04:18<1:17:32,  1.64s/it]\u001b[A\n",
      "  5%|▌         | 163/3000 [04:20<1:13:25,  1.55s/it]\u001b[A\n",
      "  5%|▌         | 164/3000 [04:21<1:15:40,  1.60s/it]\u001b[A\n",
      "  6%|▌         | 165/3000 [04:23<1:13:22,  1.55s/it]\u001b[A\n",
      "  6%|▌         | 166/3000 [04:24<1:10:34,  1.49s/it]\u001b[A\n",
      "  6%|▌         | 167/3000 [04:26<1:10:03,  1.48s/it]\u001b[A\n",
      "  6%|▌         | 168/3000 [04:28<1:13:58,  1.57s/it]\u001b[A\n",
      "  6%|▌         | 169/3000 [04:29<1:11:27,  1.51s/it]\u001b[A\n",
      "  6%|▌         | 170/3000 [04:30<1:10:29,  1.49s/it]\u001b[A\n",
      "  6%|▌         | 171/3000 [04:32<1:08:45,  1.46s/it]\u001b[A\n",
      "  6%|▌         | 172/3000 [04:33<1:12:30,  1.54s/it]\u001b[A\n",
      "  6%|▌         | 173/3000 [04:35<1:09:34,  1.48s/it]\u001b[A"
     ]
    },
    {
     "ename": "Timeout",
     "evalue": "ignored",
     "output_type": "error",
     "traceback": [
      "\u001b[0;31m---------------------------------------------------------------------------\u001b[0m",
      "\u001b[0;31mtimeout\u001b[0m                                   Traceback (most recent call last)",
      "\u001b[0;32m/usr/local/lib/python3.9/dist-packages/urllib3/connectionpool.py\u001b[0m in \u001b[0;36m_make_request\u001b[0;34m(self, conn, method, url, timeout, chunked, **httplib_request_kw)\u001b[0m\n\u001b[1;32m    448\u001b[0m                     \u001b[0;31m# Otherwise it looks like a bug in the code.\u001b[0m\u001b[0;34m\u001b[0m\u001b[0;34m\u001b[0m\u001b[0m\n\u001b[0;32m--> 449\u001b[0;31m                     \u001b[0msix\u001b[0m\u001b[0;34m.\u001b[0m\u001b[0mraise_from\u001b[0m\u001b[0;34m(\u001b[0m\u001b[0me\u001b[0m\u001b[0;34m,\u001b[0m \u001b[0;32mNone\u001b[0m\u001b[0;34m)\u001b[0m\u001b[0;34m\u001b[0m\u001b[0;34m\u001b[0m\u001b[0m\n\u001b[0m\u001b[1;32m    450\u001b[0m         \u001b[0;32mexcept\u001b[0m \u001b[0;34m(\u001b[0m\u001b[0mSocketTimeout\u001b[0m\u001b[0;34m,\u001b[0m \u001b[0mBaseSSLError\u001b[0m\u001b[0;34m,\u001b[0m \u001b[0mSocketError\u001b[0m\u001b[0;34m)\u001b[0m \u001b[0;32mas\u001b[0m \u001b[0me\u001b[0m\u001b[0;34m:\u001b[0m\u001b[0;34m\u001b[0m\u001b[0;34m\u001b[0m\u001b[0m\n",
      "\u001b[0;32m/usr/local/lib/python3.9/dist-packages/urllib3/packages/six.py\u001b[0m in \u001b[0;36mraise_from\u001b[0;34m(value, from_value)\u001b[0m\n",
      "\u001b[0;32m/usr/local/lib/python3.9/dist-packages/urllib3/connectionpool.py\u001b[0m in \u001b[0;36m_make_request\u001b[0;34m(self, conn, method, url, timeout, chunked, **httplib_request_kw)\u001b[0m\n\u001b[1;32m    443\u001b[0m                 \u001b[0;32mtry\u001b[0m\u001b[0;34m:\u001b[0m\u001b[0;34m\u001b[0m\u001b[0;34m\u001b[0m\u001b[0m\n\u001b[0;32m--> 444\u001b[0;31m                     \u001b[0mhttplib_response\u001b[0m \u001b[0;34m=\u001b[0m \u001b[0mconn\u001b[0m\u001b[0;34m.\u001b[0m\u001b[0mgetresponse\u001b[0m\u001b[0;34m(\u001b[0m\u001b[0;34m)\u001b[0m\u001b[0;34m\u001b[0m\u001b[0;34m\u001b[0m\u001b[0m\n\u001b[0m\u001b[1;32m    445\u001b[0m                 \u001b[0;32mexcept\u001b[0m \u001b[0mBaseException\u001b[0m \u001b[0;32mas\u001b[0m \u001b[0me\u001b[0m\u001b[0;34m:\u001b[0m\u001b[0;34m\u001b[0m\u001b[0;34m\u001b[0m\u001b[0m\n",
      "\u001b[0;32m/usr/lib/python3.9/http/client.py\u001b[0m in \u001b[0;36mgetresponse\u001b[0;34m(self)\u001b[0m\n\u001b[1;32m   1376\u001b[0m             \u001b[0;32mtry\u001b[0m\u001b[0;34m:\u001b[0m\u001b[0;34m\u001b[0m\u001b[0;34m\u001b[0m\u001b[0m\n\u001b[0;32m-> 1377\u001b[0;31m                 \u001b[0mresponse\u001b[0m\u001b[0;34m.\u001b[0m\u001b[0mbegin\u001b[0m\u001b[0;34m(\u001b[0m\u001b[0;34m)\u001b[0m\u001b[0;34m\u001b[0m\u001b[0;34m\u001b[0m\u001b[0m\n\u001b[0m\u001b[1;32m   1378\u001b[0m             \u001b[0;32mexcept\u001b[0m \u001b[0mConnectionError\u001b[0m\u001b[0;34m:\u001b[0m\u001b[0;34m\u001b[0m\u001b[0;34m\u001b[0m\u001b[0m\n",
      "\u001b[0;32m/usr/lib/python3.9/http/client.py\u001b[0m in \u001b[0;36mbegin\u001b[0;34m(self)\u001b[0m\n\u001b[1;32m    319\u001b[0m         \u001b[0;32mwhile\u001b[0m \u001b[0;32mTrue\u001b[0m\u001b[0;34m:\u001b[0m\u001b[0;34m\u001b[0m\u001b[0;34m\u001b[0m\u001b[0m\n\u001b[0;32m--> 320\u001b[0;31m             \u001b[0mversion\u001b[0m\u001b[0;34m,\u001b[0m \u001b[0mstatus\u001b[0m\u001b[0;34m,\u001b[0m \u001b[0mreason\u001b[0m \u001b[0;34m=\u001b[0m \u001b[0mself\u001b[0m\u001b[0;34m.\u001b[0m\u001b[0m_read_status\u001b[0m\u001b[0;34m(\u001b[0m\u001b[0;34m)\u001b[0m\u001b[0;34m\u001b[0m\u001b[0;34m\u001b[0m\u001b[0m\n\u001b[0m\u001b[1;32m    321\u001b[0m             \u001b[0;32mif\u001b[0m \u001b[0mstatus\u001b[0m \u001b[0;34m!=\u001b[0m \u001b[0mCONTINUE\u001b[0m\u001b[0;34m:\u001b[0m\u001b[0;34m\u001b[0m\u001b[0;34m\u001b[0m\u001b[0m\n",
      "\u001b[0;32m/usr/lib/python3.9/http/client.py\u001b[0m in \u001b[0;36m_read_status\u001b[0;34m(self)\u001b[0m\n\u001b[1;32m    280\u001b[0m     \u001b[0;32mdef\u001b[0m \u001b[0m_read_status\u001b[0m\u001b[0;34m(\u001b[0m\u001b[0mself\u001b[0m\u001b[0;34m)\u001b[0m\u001b[0;34m:\u001b[0m\u001b[0;34m\u001b[0m\u001b[0;34m\u001b[0m\u001b[0m\n\u001b[0;32m--> 281\u001b[0;31m         \u001b[0mline\u001b[0m \u001b[0;34m=\u001b[0m \u001b[0mstr\u001b[0m\u001b[0;34m(\u001b[0m\u001b[0mself\u001b[0m\u001b[0;34m.\u001b[0m\u001b[0mfp\u001b[0m\u001b[0;34m.\u001b[0m\u001b[0mreadline\u001b[0m\u001b[0;34m(\u001b[0m\u001b[0m_MAXLINE\u001b[0m \u001b[0;34m+\u001b[0m \u001b[0;36m1\u001b[0m\u001b[0;34m)\u001b[0m\u001b[0;34m,\u001b[0m \u001b[0;34m\"iso-8859-1\"\u001b[0m\u001b[0;34m)\u001b[0m\u001b[0;34m\u001b[0m\u001b[0;34m\u001b[0m\u001b[0m\n\u001b[0m\u001b[1;32m    282\u001b[0m         \u001b[0;32mif\u001b[0m \u001b[0mlen\u001b[0m\u001b[0;34m(\u001b[0m\u001b[0mline\u001b[0m\u001b[0;34m)\u001b[0m \u001b[0;34m>\u001b[0m \u001b[0m_MAXLINE\u001b[0m\u001b[0;34m:\u001b[0m\u001b[0;34m\u001b[0m\u001b[0;34m\u001b[0m\u001b[0m\n",
      "\u001b[0;32m/usr/lib/python3.9/socket.py\u001b[0m in \u001b[0;36mreadinto\u001b[0;34m(self, b)\u001b[0m\n\u001b[1;32m    703\u001b[0m             \u001b[0;32mtry\u001b[0m\u001b[0;34m:\u001b[0m\u001b[0;34m\u001b[0m\u001b[0;34m\u001b[0m\u001b[0m\n\u001b[0;32m--> 704\u001b[0;31m                 \u001b[0;32mreturn\u001b[0m \u001b[0mself\u001b[0m\u001b[0;34m.\u001b[0m\u001b[0m_sock\u001b[0m\u001b[0;34m.\u001b[0m\u001b[0mrecv_into\u001b[0m\u001b[0;34m(\u001b[0m\u001b[0mb\u001b[0m\u001b[0;34m)\u001b[0m\u001b[0;34m\u001b[0m\u001b[0;34m\u001b[0m\u001b[0m\n\u001b[0m\u001b[1;32m    705\u001b[0m             \u001b[0;32mexcept\u001b[0m \u001b[0mtimeout\u001b[0m\u001b[0;34m:\u001b[0m\u001b[0;34m\u001b[0m\u001b[0;34m\u001b[0m\u001b[0m\n",
      "\u001b[0;32m/usr/lib/python3.9/ssl.py\u001b[0m in \u001b[0;36mrecv_into\u001b[0;34m(self, buffer, nbytes, flags)\u001b[0m\n\u001b[1;32m   1241\u001b[0m                   self.__class__)\n\u001b[0;32m-> 1242\u001b[0;31m             \u001b[0;32mreturn\u001b[0m \u001b[0mself\u001b[0m\u001b[0;34m.\u001b[0m\u001b[0mread\u001b[0m\u001b[0;34m(\u001b[0m\u001b[0mnbytes\u001b[0m\u001b[0;34m,\u001b[0m \u001b[0mbuffer\u001b[0m\u001b[0;34m)\u001b[0m\u001b[0;34m\u001b[0m\u001b[0;34m\u001b[0m\u001b[0m\n\u001b[0m\u001b[1;32m   1243\u001b[0m         \u001b[0;32melse\u001b[0m\u001b[0;34m:\u001b[0m\u001b[0;34m\u001b[0m\u001b[0;34m\u001b[0m\u001b[0m\n",
      "\u001b[0;32m/usr/lib/python3.9/ssl.py\u001b[0m in \u001b[0;36mread\u001b[0;34m(self, len, buffer)\u001b[0m\n\u001b[1;32m   1099\u001b[0m             \u001b[0;32mif\u001b[0m \u001b[0mbuffer\u001b[0m \u001b[0;32mis\u001b[0m \u001b[0;32mnot\u001b[0m \u001b[0;32mNone\u001b[0m\u001b[0;34m:\u001b[0m\u001b[0;34m\u001b[0m\u001b[0;34m\u001b[0m\u001b[0m\n\u001b[0;32m-> 1100\u001b[0;31m                 \u001b[0;32mreturn\u001b[0m \u001b[0mself\u001b[0m\u001b[0;34m.\u001b[0m\u001b[0m_sslobj\u001b[0m\u001b[0;34m.\u001b[0m\u001b[0mread\u001b[0m\u001b[0;34m(\u001b[0m\u001b[0mlen\u001b[0m\u001b[0;34m,\u001b[0m \u001b[0mbuffer\u001b[0m\u001b[0;34m)\u001b[0m\u001b[0;34m\u001b[0m\u001b[0;34m\u001b[0m\u001b[0m\n\u001b[0m\u001b[1;32m   1101\u001b[0m             \u001b[0;32melse\u001b[0m\u001b[0;34m:\u001b[0m\u001b[0;34m\u001b[0m\u001b[0;34m\u001b[0m\u001b[0m\n",
      "\u001b[0;31mtimeout\u001b[0m: The read operation timed out",
      "\nDuring handling of the above exception, another exception occurred:\n",
      "\u001b[0;31mReadTimeoutError\u001b[0m                          Traceback (most recent call last)",
      "\u001b[0;32m/usr/local/lib/python3.9/dist-packages/requests/adapters.py\u001b[0m in \u001b[0;36msend\u001b[0;34m(self, request, stream, timeout, verify, cert, proxies)\u001b[0m\n\u001b[1;32m    439\u001b[0m             \u001b[0;32mif\u001b[0m \u001b[0;32mnot\u001b[0m \u001b[0mchunked\u001b[0m\u001b[0;34m:\u001b[0m\u001b[0;34m\u001b[0m\u001b[0;34m\u001b[0m\u001b[0m\n\u001b[0;32m--> 440\u001b[0;31m                 resp = conn.urlopen(\n\u001b[0m\u001b[1;32m    441\u001b[0m                     \u001b[0mmethod\u001b[0m\u001b[0;34m=\u001b[0m\u001b[0mrequest\u001b[0m\u001b[0;34m.\u001b[0m\u001b[0mmethod\u001b[0m\u001b[0;34m,\u001b[0m\u001b[0;34m\u001b[0m\u001b[0;34m\u001b[0m\u001b[0m\n",
      "\u001b[0;32m/usr/local/lib/python3.9/dist-packages/urllib3/connectionpool.py\u001b[0m in \u001b[0;36murlopen\u001b[0;34m(self, method, url, body, headers, retries, redirect, assert_same_host, timeout, pool_timeout, release_conn, chunked, body_pos, **response_kw)\u001b[0m\n\u001b[1;32m    786\u001b[0m \u001b[0;34m\u001b[0m\u001b[0m\n\u001b[0;32m--> 787\u001b[0;31m             retries = retries.increment(\n\u001b[0m\u001b[1;32m    788\u001b[0m                 \u001b[0mmethod\u001b[0m\u001b[0;34m,\u001b[0m \u001b[0murl\u001b[0m\u001b[0;34m,\u001b[0m \u001b[0merror\u001b[0m\u001b[0;34m=\u001b[0m\u001b[0me\u001b[0m\u001b[0;34m,\u001b[0m \u001b[0m_pool\u001b[0m\u001b[0;34m=\u001b[0m\u001b[0mself\u001b[0m\u001b[0;34m,\u001b[0m \u001b[0m_stacktrace\u001b[0m\u001b[0;34m=\u001b[0m\u001b[0msys\u001b[0m\u001b[0;34m.\u001b[0m\u001b[0mexc_info\u001b[0m\u001b[0;34m(\u001b[0m\u001b[0;34m)\u001b[0m\u001b[0;34m[\u001b[0m\u001b[0;36m2\u001b[0m\u001b[0;34m]\u001b[0m\u001b[0;34m\u001b[0m\u001b[0;34m\u001b[0m\u001b[0m\n",
      "\u001b[0;32m/usr/local/lib/python3.9/dist-packages/urllib3/util/retry.py\u001b[0m in \u001b[0;36mincrement\u001b[0;34m(self, method, url, response, error, _pool, _stacktrace)\u001b[0m\n\u001b[1;32m    549\u001b[0m             \u001b[0;32mif\u001b[0m \u001b[0mread\u001b[0m \u001b[0;32mis\u001b[0m \u001b[0;32mFalse\u001b[0m \u001b[0;32mor\u001b[0m \u001b[0;32mnot\u001b[0m \u001b[0mself\u001b[0m\u001b[0;34m.\u001b[0m\u001b[0m_is_method_retryable\u001b[0m\u001b[0;34m(\u001b[0m\u001b[0mmethod\u001b[0m\u001b[0;34m)\u001b[0m\u001b[0;34m:\u001b[0m\u001b[0;34m\u001b[0m\u001b[0;34m\u001b[0m\u001b[0m\n\u001b[0;32m--> 550\u001b[0;31m                 \u001b[0;32mraise\u001b[0m \u001b[0msix\u001b[0m\u001b[0;34m.\u001b[0m\u001b[0mreraise\u001b[0m\u001b[0;34m(\u001b[0m\u001b[0mtype\u001b[0m\u001b[0;34m(\u001b[0m\u001b[0merror\u001b[0m\u001b[0;34m)\u001b[0m\u001b[0;34m,\u001b[0m \u001b[0merror\u001b[0m\u001b[0;34m,\u001b[0m \u001b[0m_stacktrace\u001b[0m\u001b[0;34m)\u001b[0m\u001b[0;34m\u001b[0m\u001b[0;34m\u001b[0m\u001b[0m\n\u001b[0m\u001b[1;32m    551\u001b[0m             \u001b[0;32melif\u001b[0m \u001b[0mread\u001b[0m \u001b[0;32mis\u001b[0m \u001b[0;32mnot\u001b[0m \u001b[0;32mNone\u001b[0m\u001b[0;34m:\u001b[0m\u001b[0;34m\u001b[0m\u001b[0;34m\u001b[0m\u001b[0m\n",
      "\u001b[0;32m/usr/local/lib/python3.9/dist-packages/urllib3/packages/six.py\u001b[0m in \u001b[0;36mreraise\u001b[0;34m(tp, value, tb)\u001b[0m\n\u001b[1;32m    769\u001b[0m                 \u001b[0;32mraise\u001b[0m \u001b[0mvalue\u001b[0m\u001b[0;34m.\u001b[0m\u001b[0mwith_traceback\u001b[0m\u001b[0;34m(\u001b[0m\u001b[0mtb\u001b[0m\u001b[0;34m)\u001b[0m\u001b[0;34m\u001b[0m\u001b[0;34m\u001b[0m\u001b[0m\n\u001b[0;32m--> 770\u001b[0;31m             \u001b[0;32mraise\u001b[0m \u001b[0mvalue\u001b[0m\u001b[0;34m\u001b[0m\u001b[0;34m\u001b[0m\u001b[0m\n\u001b[0m\u001b[1;32m    771\u001b[0m         \u001b[0;32mfinally\u001b[0m\u001b[0;34m:\u001b[0m\u001b[0;34m\u001b[0m\u001b[0;34m\u001b[0m\u001b[0m\n",
      "\u001b[0;32m/usr/local/lib/python3.9/dist-packages/urllib3/connectionpool.py\u001b[0m in \u001b[0;36murlopen\u001b[0;34m(self, method, url, body, headers, retries, redirect, assert_same_host, timeout, pool_timeout, release_conn, chunked, body_pos, **response_kw)\u001b[0m\n\u001b[1;32m    702\u001b[0m             \u001b[0;31m# Make the request on the httplib connection object.\u001b[0m\u001b[0;34m\u001b[0m\u001b[0;34m\u001b[0m\u001b[0m\n\u001b[0;32m--> 703\u001b[0;31m             httplib_response = self._make_request(\n\u001b[0m\u001b[1;32m    704\u001b[0m                 \u001b[0mconn\u001b[0m\u001b[0;34m,\u001b[0m\u001b[0;34m\u001b[0m\u001b[0;34m\u001b[0m\u001b[0m\n",
      "\u001b[0;32m/usr/local/lib/python3.9/dist-packages/urllib3/connectionpool.py\u001b[0m in \u001b[0;36m_make_request\u001b[0;34m(self, conn, method, url, timeout, chunked, **httplib_request_kw)\u001b[0m\n\u001b[1;32m    450\u001b[0m         \u001b[0;32mexcept\u001b[0m \u001b[0;34m(\u001b[0m\u001b[0mSocketTimeout\u001b[0m\u001b[0;34m,\u001b[0m \u001b[0mBaseSSLError\u001b[0m\u001b[0;34m,\u001b[0m \u001b[0mSocketError\u001b[0m\u001b[0;34m)\u001b[0m \u001b[0;32mas\u001b[0m \u001b[0me\u001b[0m\u001b[0;34m:\u001b[0m\u001b[0;34m\u001b[0m\u001b[0;34m\u001b[0m\u001b[0m\n\u001b[0;32m--> 451\u001b[0;31m             \u001b[0mself\u001b[0m\u001b[0;34m.\u001b[0m\u001b[0m_raise_timeout\u001b[0m\u001b[0;34m(\u001b[0m\u001b[0merr\u001b[0m\u001b[0;34m=\u001b[0m\u001b[0me\u001b[0m\u001b[0;34m,\u001b[0m \u001b[0murl\u001b[0m\u001b[0;34m=\u001b[0m\u001b[0murl\u001b[0m\u001b[0;34m,\u001b[0m \u001b[0mtimeout_value\u001b[0m\u001b[0;34m=\u001b[0m\u001b[0mread_timeout\u001b[0m\u001b[0;34m)\u001b[0m\u001b[0;34m\u001b[0m\u001b[0;34m\u001b[0m\u001b[0m\n\u001b[0m\u001b[1;32m    452\u001b[0m             \u001b[0;32mraise\u001b[0m\u001b[0;34m\u001b[0m\u001b[0;34m\u001b[0m\u001b[0m\n",
      "\u001b[0;32m/usr/local/lib/python3.9/dist-packages/urllib3/connectionpool.py\u001b[0m in \u001b[0;36m_raise_timeout\u001b[0;34m(self, err, url, timeout_value)\u001b[0m\n\u001b[1;32m    339\u001b[0m         \u001b[0;32mif\u001b[0m \u001b[0misinstance\u001b[0m\u001b[0;34m(\u001b[0m\u001b[0merr\u001b[0m\u001b[0;34m,\u001b[0m \u001b[0mSocketTimeout\u001b[0m\u001b[0;34m)\u001b[0m\u001b[0;34m:\u001b[0m\u001b[0;34m\u001b[0m\u001b[0;34m\u001b[0m\u001b[0m\n\u001b[0;32m--> 340\u001b[0;31m             raise ReadTimeoutError(\n\u001b[0m\u001b[1;32m    341\u001b[0m                 \u001b[0mself\u001b[0m\u001b[0;34m,\u001b[0m \u001b[0murl\u001b[0m\u001b[0;34m,\u001b[0m \u001b[0;34m\"Read timed out. (read timeout=%s)\"\u001b[0m \u001b[0;34m%\u001b[0m \u001b[0mtimeout_value\u001b[0m\u001b[0;34m\u001b[0m\u001b[0;34m\u001b[0m\u001b[0m\n",
      "\u001b[0;31mReadTimeoutError\u001b[0m: HTTPSConnectionPool(host='api.openai.com', port=443): Read timed out. (read timeout=600)",
      "\nDuring handling of the above exception, another exception occurred:\n",
      "\u001b[0;31mReadTimeout\u001b[0m                               Traceback (most recent call last)",
      "\u001b[0;32m/usr/local/lib/python3.9/dist-packages/openai/api_requestor.py\u001b[0m in \u001b[0;36mrequest_raw\u001b[0;34m(self, method, url, params, supplied_headers, files, stream, request_id, request_timeout)\u001b[0m\n\u001b[1;32m    515\u001b[0m         \u001b[0;32mtry\u001b[0m\u001b[0;34m:\u001b[0m\u001b[0;34m\u001b[0m\u001b[0;34m\u001b[0m\u001b[0m\n\u001b[0;32m--> 516\u001b[0;31m             result = _thread_context.session.request(\n\u001b[0m\u001b[1;32m    517\u001b[0m                 \u001b[0mmethod\u001b[0m\u001b[0;34m,\u001b[0m\u001b[0;34m\u001b[0m\u001b[0;34m\u001b[0m\u001b[0m\n",
      "\u001b[0;32m/usr/local/lib/python3.9/dist-packages/requests/sessions.py\u001b[0m in \u001b[0;36mrequest\u001b[0;34m(self, method, url, params, data, headers, cookies, files, auth, timeout, allow_redirects, proxies, hooks, stream, verify, cert, json)\u001b[0m\n\u001b[1;32m    528\u001b[0m         \u001b[0msend_kwargs\u001b[0m\u001b[0;34m.\u001b[0m\u001b[0mupdate\u001b[0m\u001b[0;34m(\u001b[0m\u001b[0msettings\u001b[0m\u001b[0;34m)\u001b[0m\u001b[0;34m\u001b[0m\u001b[0;34m\u001b[0m\u001b[0m\n\u001b[0;32m--> 529\u001b[0;31m         \u001b[0mresp\u001b[0m \u001b[0;34m=\u001b[0m \u001b[0mself\u001b[0m\u001b[0;34m.\u001b[0m\u001b[0msend\u001b[0m\u001b[0;34m(\u001b[0m\u001b[0mprep\u001b[0m\u001b[0;34m,\u001b[0m \u001b[0;34m**\u001b[0m\u001b[0msend_kwargs\u001b[0m\u001b[0;34m)\u001b[0m\u001b[0;34m\u001b[0m\u001b[0;34m\u001b[0m\u001b[0m\n\u001b[0m\u001b[1;32m    530\u001b[0m \u001b[0;34m\u001b[0m\u001b[0m\n",
      "\u001b[0;32m/usr/local/lib/python3.9/dist-packages/requests/sessions.py\u001b[0m in \u001b[0;36msend\u001b[0;34m(self, request, **kwargs)\u001b[0m\n\u001b[1;32m    644\u001b[0m         \u001b[0;31m# Send the request\u001b[0m\u001b[0;34m\u001b[0m\u001b[0;34m\u001b[0m\u001b[0m\n\u001b[0;32m--> 645\u001b[0;31m         \u001b[0mr\u001b[0m \u001b[0;34m=\u001b[0m \u001b[0madapter\u001b[0m\u001b[0;34m.\u001b[0m\u001b[0msend\u001b[0m\u001b[0;34m(\u001b[0m\u001b[0mrequest\u001b[0m\u001b[0;34m,\u001b[0m \u001b[0;34m**\u001b[0m\u001b[0mkwargs\u001b[0m\u001b[0;34m)\u001b[0m\u001b[0;34m\u001b[0m\u001b[0;34m\u001b[0m\u001b[0m\n\u001b[0m\u001b[1;32m    646\u001b[0m \u001b[0;34m\u001b[0m\u001b[0m\n",
      "\u001b[0;32m/usr/local/lib/python3.9/dist-packages/requests/adapters.py\u001b[0m in \u001b[0;36msend\u001b[0;34m(self, request, stream, timeout, verify, cert, proxies)\u001b[0m\n\u001b[1;32m    531\u001b[0m             \u001b[0;32melif\u001b[0m \u001b[0misinstance\u001b[0m\u001b[0;34m(\u001b[0m\u001b[0me\u001b[0m\u001b[0;34m,\u001b[0m \u001b[0mReadTimeoutError\u001b[0m\u001b[0;34m)\u001b[0m\u001b[0;34m:\u001b[0m\u001b[0;34m\u001b[0m\u001b[0;34m\u001b[0m\u001b[0m\n\u001b[0;32m--> 532\u001b[0;31m                 \u001b[0;32mraise\u001b[0m \u001b[0mReadTimeout\u001b[0m\u001b[0;34m(\u001b[0m\u001b[0me\u001b[0m\u001b[0;34m,\u001b[0m \u001b[0mrequest\u001b[0m\u001b[0;34m=\u001b[0m\u001b[0mrequest\u001b[0m\u001b[0;34m)\u001b[0m\u001b[0;34m\u001b[0m\u001b[0;34m\u001b[0m\u001b[0m\n\u001b[0m\u001b[1;32m    533\u001b[0m             \u001b[0;32melif\u001b[0m \u001b[0misinstance\u001b[0m\u001b[0;34m(\u001b[0m\u001b[0me\u001b[0m\u001b[0;34m,\u001b[0m \u001b[0m_InvalidHeader\u001b[0m\u001b[0;34m)\u001b[0m\u001b[0;34m:\u001b[0m\u001b[0;34m\u001b[0m\u001b[0;34m\u001b[0m\u001b[0m\n",
      "\u001b[0;31mReadTimeout\u001b[0m: HTTPSConnectionPool(host='api.openai.com', port=443): Read timed out. (read timeout=600)",
      "\nThe above exception was the direct cause of the following exception:\n",
      "\u001b[0;31mTimeout\u001b[0m                                   Traceback (most recent call last)",
      "\u001b[0;32m<ipython-input-64-802fb97e7fe9>\u001b[0m in \u001b[0;36m<module>\u001b[0;34m\u001b[0m\n\u001b[1;32m      5\u001b[0m     \u001b[0mthis_conv\u001b[0m \u001b[0;34m=\u001b[0m \u001b[0mconversation\u001b[0m\u001b[0;34m.\u001b[0m\u001b[0mcopy\u001b[0m\u001b[0;34m(\u001b[0m\u001b[0;34m)\u001b[0m\u001b[0;34m\u001b[0m\u001b[0;34m\u001b[0m\u001b[0m\n\u001b[1;32m      6\u001b[0m     \u001b[0mthis_conv\u001b[0m\u001b[0;34m.\u001b[0m\u001b[0mappend\u001b[0m\u001b[0;34m(\u001b[0m\u001b[0;34m{\u001b[0m\u001b[0;34m'role'\u001b[0m\u001b[0;34m:\u001b[0m \u001b[0;34m'user'\u001b[0m\u001b[0;34m,\u001b[0m \u001b[0;34m'content'\u001b[0m\u001b[0;34m:\u001b[0m \u001b[0;34m'Decide whether the following news is a satire, hoax, propaganda or reliable news, reply only with its classification, without justification.'\u001b[0m\u001b[0;34m}\u001b[0m\u001b[0;34m)\u001b[0m\u001b[0;34m\u001b[0m\u001b[0;34m\u001b[0m\u001b[0m\n\u001b[0;32m----> 7\u001b[0;31m     \u001b[0mthis_conv\u001b[0m \u001b[0;34m=\u001b[0m \u001b[0mget_gpt_reply\u001b[0m\u001b[0;34m(\u001b[0m\u001b[0mthis_conv\u001b[0m\u001b[0;34m)\u001b[0m\u001b[0;34m\u001b[0m\u001b[0;34m\u001b[0m\u001b[0m\n\u001b[0m\u001b[1;32m      8\u001b[0m \u001b[0;34m\u001b[0m\u001b[0m\n\u001b[1;32m      9\u001b[0m     \u001b[0mprompt\u001b[0m \u001b[0;34m=\u001b[0m \u001b[0;34m\"News: \"\u001b[0m \u001b[0;34m+\u001b[0m \u001b[0mrow\u001b[0m\u001b[0;34m[\u001b[0m\u001b[0;34m'text'\u001b[0m\u001b[0;34m]\u001b[0m\u001b[0;34m\u001b[0m\u001b[0;34m\u001b[0m\u001b[0m\n",
      "\u001b[0;32m<ipython-input-63-a95e5a3a2d5b>\u001b[0m in \u001b[0;36mget_gpt_reply\u001b[0;34m(conversation)\u001b[0m\n\u001b[1;32m      2\u001b[0m \u001b[0;34m\u001b[0m\u001b[0m\n\u001b[1;32m      3\u001b[0m \u001b[0;32mdef\u001b[0m \u001b[0mget_gpt_reply\u001b[0m\u001b[0;34m(\u001b[0m\u001b[0mconversation\u001b[0m\u001b[0;34m)\u001b[0m\u001b[0;34m:\u001b[0m\u001b[0;34m\u001b[0m\u001b[0;34m\u001b[0m\u001b[0m\n\u001b[0;32m----> 4\u001b[0;31m     response = openai.ChatCompletion.create(\n\u001b[0m\u001b[1;32m      5\u001b[0m         \u001b[0mmodel\u001b[0m\u001b[0;34m=\u001b[0m\u001b[0mmodel_id\u001b[0m\u001b[0;34m,\u001b[0m\u001b[0;34m\u001b[0m\u001b[0;34m\u001b[0m\u001b[0m\n\u001b[1;32m      6\u001b[0m         \u001b[0mmessages\u001b[0m\u001b[0;34m=\u001b[0m\u001b[0mconversation\u001b[0m\u001b[0;34m\u001b[0m\u001b[0;34m\u001b[0m\u001b[0m\n",
      "\u001b[0;32m/usr/local/lib/python3.9/dist-packages/openai/api_resources/chat_completion.py\u001b[0m in \u001b[0;36mcreate\u001b[0;34m(cls, *args, **kwargs)\u001b[0m\n\u001b[1;32m     23\u001b[0m         \u001b[0;32mwhile\u001b[0m \u001b[0;32mTrue\u001b[0m\u001b[0;34m:\u001b[0m\u001b[0;34m\u001b[0m\u001b[0;34m\u001b[0m\u001b[0m\n\u001b[1;32m     24\u001b[0m             \u001b[0;32mtry\u001b[0m\u001b[0;34m:\u001b[0m\u001b[0;34m\u001b[0m\u001b[0;34m\u001b[0m\u001b[0m\n\u001b[0;32m---> 25\u001b[0;31m                 \u001b[0;32mreturn\u001b[0m \u001b[0msuper\u001b[0m\u001b[0;34m(\u001b[0m\u001b[0;34m)\u001b[0m\u001b[0;34m.\u001b[0m\u001b[0mcreate\u001b[0m\u001b[0;34m(\u001b[0m\u001b[0;34m*\u001b[0m\u001b[0margs\u001b[0m\u001b[0;34m,\u001b[0m \u001b[0;34m**\u001b[0m\u001b[0mkwargs\u001b[0m\u001b[0;34m)\u001b[0m\u001b[0;34m\u001b[0m\u001b[0;34m\u001b[0m\u001b[0m\n\u001b[0m\u001b[1;32m     26\u001b[0m             \u001b[0;32mexcept\u001b[0m \u001b[0mTryAgain\u001b[0m \u001b[0;32mas\u001b[0m \u001b[0me\u001b[0m\u001b[0;34m:\u001b[0m\u001b[0;34m\u001b[0m\u001b[0;34m\u001b[0m\u001b[0m\n\u001b[1;32m     27\u001b[0m                 \u001b[0;32mif\u001b[0m \u001b[0mtimeout\u001b[0m \u001b[0;32mis\u001b[0m \u001b[0;32mnot\u001b[0m \u001b[0;32mNone\u001b[0m \u001b[0;32mand\u001b[0m \u001b[0mtime\u001b[0m\u001b[0;34m.\u001b[0m\u001b[0mtime\u001b[0m\u001b[0;34m(\u001b[0m\u001b[0;34m)\u001b[0m \u001b[0;34m>\u001b[0m \u001b[0mstart\u001b[0m \u001b[0;34m+\u001b[0m \u001b[0mtimeout\u001b[0m\u001b[0;34m:\u001b[0m\u001b[0;34m\u001b[0m\u001b[0;34m\u001b[0m\u001b[0m\n",
      "\u001b[0;32m/usr/local/lib/python3.9/dist-packages/openai/api_resources/abstract/engine_api_resource.py\u001b[0m in \u001b[0;36mcreate\u001b[0;34m(cls, api_key, api_base, api_type, request_id, api_version, organization, **params)\u001b[0m\n\u001b[1;32m    151\u001b[0m         )\n\u001b[1;32m    152\u001b[0m \u001b[0;34m\u001b[0m\u001b[0m\n\u001b[0;32m--> 153\u001b[0;31m         response, _, api_key = requestor.request(\n\u001b[0m\u001b[1;32m    154\u001b[0m             \u001b[0;34m\"post\"\u001b[0m\u001b[0;34m,\u001b[0m\u001b[0;34m\u001b[0m\u001b[0;34m\u001b[0m\u001b[0m\n\u001b[1;32m    155\u001b[0m             \u001b[0murl\u001b[0m\u001b[0;34m,\u001b[0m\u001b[0;34m\u001b[0m\u001b[0;34m\u001b[0m\u001b[0m\n",
      "\u001b[0;32m/usr/local/lib/python3.9/dist-packages/openai/api_requestor.py\u001b[0m in \u001b[0;36mrequest\u001b[0;34m(self, method, url, params, headers, files, stream, request_id, request_timeout)\u001b[0m\n\u001b[1;32m    214\u001b[0m         \u001b[0mrequest_timeout\u001b[0m\u001b[0;34m:\u001b[0m \u001b[0mOptional\u001b[0m\u001b[0;34m[\u001b[0m\u001b[0mUnion\u001b[0m\u001b[0;34m[\u001b[0m\u001b[0mfloat\u001b[0m\u001b[0;34m,\u001b[0m \u001b[0mTuple\u001b[0m\u001b[0;34m[\u001b[0m\u001b[0mfloat\u001b[0m\u001b[0;34m,\u001b[0m \u001b[0mfloat\u001b[0m\u001b[0;34m]\u001b[0m\u001b[0;34m]\u001b[0m\u001b[0;34m]\u001b[0m \u001b[0;34m=\u001b[0m \u001b[0;32mNone\u001b[0m\u001b[0;34m,\u001b[0m\u001b[0;34m\u001b[0m\u001b[0;34m\u001b[0m\u001b[0m\n\u001b[1;32m    215\u001b[0m     ) -> Tuple[Union[OpenAIResponse, Iterator[OpenAIResponse]], bool, str]:\n\u001b[0;32m--> 216\u001b[0;31m         result = self.request_raw(\n\u001b[0m\u001b[1;32m    217\u001b[0m             \u001b[0mmethod\u001b[0m\u001b[0;34m.\u001b[0m\u001b[0mlower\u001b[0m\u001b[0;34m(\u001b[0m\u001b[0;34m)\u001b[0m\u001b[0;34m,\u001b[0m\u001b[0;34m\u001b[0m\u001b[0;34m\u001b[0m\u001b[0m\n\u001b[1;32m    218\u001b[0m             \u001b[0murl\u001b[0m\u001b[0;34m,\u001b[0m\u001b[0;34m\u001b[0m\u001b[0;34m\u001b[0m\u001b[0m\n",
      "\u001b[0;32m/usr/local/lib/python3.9/dist-packages/openai/api_requestor.py\u001b[0m in \u001b[0;36mrequest_raw\u001b[0;34m(self, method, url, params, supplied_headers, files, stream, request_id, request_timeout)\u001b[0m\n\u001b[1;32m    524\u001b[0m             )\n\u001b[1;32m    525\u001b[0m         \u001b[0;32mexcept\u001b[0m \u001b[0mrequests\u001b[0m\u001b[0;34m.\u001b[0m\u001b[0mexceptions\u001b[0m\u001b[0;34m.\u001b[0m\u001b[0mTimeout\u001b[0m \u001b[0;32mas\u001b[0m \u001b[0me\u001b[0m\u001b[0;34m:\u001b[0m\u001b[0;34m\u001b[0m\u001b[0;34m\u001b[0m\u001b[0m\n\u001b[0;32m--> 526\u001b[0;31m             \u001b[0;32mraise\u001b[0m \u001b[0merror\u001b[0m\u001b[0;34m.\u001b[0m\u001b[0mTimeout\u001b[0m\u001b[0;34m(\u001b[0m\u001b[0;34m\"Request timed out: {}\"\u001b[0m\u001b[0;34m.\u001b[0m\u001b[0mformat\u001b[0m\u001b[0;34m(\u001b[0m\u001b[0me\u001b[0m\u001b[0;34m)\u001b[0m\u001b[0;34m)\u001b[0m \u001b[0;32mfrom\u001b[0m \u001b[0me\u001b[0m\u001b[0;34m\u001b[0m\u001b[0;34m\u001b[0m\u001b[0m\n\u001b[0m\u001b[1;32m    527\u001b[0m         \u001b[0;32mexcept\u001b[0m \u001b[0mrequests\u001b[0m\u001b[0;34m.\u001b[0m\u001b[0mexceptions\u001b[0m\u001b[0;34m.\u001b[0m\u001b[0mRequestException\u001b[0m \u001b[0;32mas\u001b[0m \u001b[0me\u001b[0m\u001b[0;34m:\u001b[0m\u001b[0;34m\u001b[0m\u001b[0;34m\u001b[0m\u001b[0m\n\u001b[1;32m    528\u001b[0m             raise error.APIConnectionError(\n",
      "\u001b[0;31mTimeout\u001b[0m: Request timed out: HTTPSConnectionPool(host='api.openai.com', port=443): Read timed out. (read timeout=600)"
     ]
    }
   ],
   "source": [
    "responses = list()\n",
    "pbar = tqdm(total=3000)\n",
    "\n",
    "for index, row in test.iterrows():\n",
    "    this_conv = conversation.copy()\n",
    "    this_conv.append({'role': 'user', 'content': 'Decide whether the following news is a satire, hoax, propaganda or reliable news, reply only with its classification, without justification.'})\n",
    "    this_conv = get_gpt_reply(this_conv)\n",
    "\n",
    "    prompt = \"News: \" + row['text']\n",
    "    this_conv.append({'role': 'user', 'content': prompt})\n",
    "    try:\n",
    "        output = get_gpt_reply(this_conv)\n",
    "        responses.append(output[-1]['content'].strip())\n",
    "    except Exception:\n",
    "        responses.append('News is too long.')\n",
    "    \n",
    "    pbar.update()\n",
    "\n",
    "pbar.close()"
   ]
  },
  {
   "cell_type": "code",
   "execution_count": null,
   "metadata": {
    "executionInfo": {
     "elapsed": 4,
     "status": "aborted",
     "timestamp": 1679848486658,
     "user": {
      "displayName": "Gabriel Jiahe Li",
      "userId": "17836748336427338389"
     },
     "user_tz": -480
    },
    "id": "Cc2MOHjdge9a"
   },
   "outputs": [],
   "source": [
    "test['responses'] = responses"
   ]
  },
  {
   "cell_type": "code",
   "execution_count": null,
   "metadata": {
    "executionInfo": {
     "elapsed": 4,
     "status": "aborted",
     "timestamp": 1679848486658,
     "user": {
      "displayName": "Gabriel Jiahe Li",
      "userId": "17836748336427338389"
     },
     "user_tz": -480
    },
    "id": "KV5SDj1sitam"
   },
   "outputs": [],
   "source": [
    "test.to_csv('result_test.csv', encoding = 'utf-8-sig') \n",
    "files.download('result_test.csv')\n"
   ]
  },
  {
   "cell_type": "code",
   "execution_count": null,
   "metadata": {
    "id": "pxK9u99VsGCE"
   },
   "outputs": [],
   "source": [
    "|"
   ]
  }
 ],
 "metadata": {
  "accelerator": "GPU",
  "colab": {
   "authorship_tag": "ABX9TyMcumw9z76OtZybNG4bSzpw",
   "provenance": []
  },
  "gpuClass": "standard",
  "kernelspec": {
   "display_name": "Python 3 (ipykernel)",
   "language": "python",
   "name": "python3"
  },
  "language_info": {
   "codemirror_mode": {
    "name": "ipython",
    "version": 3
   },
   "file_extension": ".py",
   "mimetype": "text/x-python",
   "name": "python",
   "nbconvert_exporter": "python",
   "pygments_lexer": "ipython3",
   "version": "3.9.13"
  }
 },
 "nbformat": 4,
 "nbformat_minor": 1
}
